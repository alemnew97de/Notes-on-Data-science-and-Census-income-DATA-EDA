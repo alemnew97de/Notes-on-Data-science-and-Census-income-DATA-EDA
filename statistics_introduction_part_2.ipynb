{
  "nbformat": 4,
  "nbformat_minor": 0,
  "metadata": {
    "colab": {
      "provenance": [],
      "authorship_tag": "ABX9TyN2CCGmpDxNmDzYsCzq9IPR",
      "include_colab_link": true
    },
    "kernelspec": {
      "name": "python3",
      "display_name": "Python 3"
    },
    "language_info": {
      "name": "python"
    }
  },
  "cells": [
    {
      "cell_type": "markdown",
      "metadata": {
        "id": "view-in-github",
        "colab_type": "text"
      },
      "source": [
        "<a href=\"https://colab.research.google.com/github/alemnew97de/Census-income-DATA-EDA/blob/main/statistics_introduction_part_2.ipynb\" target=\"_parent\"><img src=\"https://colab.research.google.com/assets/colab-badge.svg\" alt=\"Open In Colab\"/></a>"
      ]
    },
    {
      "cell_type": "code",
      "execution_count": 7,
      "metadata": {
        "colab": {
          "base_uri": "https://localhost:8080/"
        },
        "id": "tya6ac-AsukS",
        "outputId": "783605ba-7583-41be-93ff-dec38004a38e"
      },
      "outputs": [
        {
          "output_type": "stream",
          "name": "stdout",
          "text": [
            "Requirement already satisfied: seaborn in /usr/local/lib/python3.10/dist-packages (0.12.2)\n",
            "Requirement already satisfied: numpy!=1.24.0,>=1.17 in /usr/local/lib/python3.10/dist-packages (from seaborn) (1.23.5)\n",
            "Requirement already satisfied: pandas>=0.25 in /usr/local/lib/python3.10/dist-packages (from seaborn) (1.5.3)\n",
            "Requirement already satisfied: matplotlib!=3.6.1,>=3.1 in /usr/local/lib/python3.10/dist-packages (from seaborn) (3.7.1)\n",
            "Requirement already satisfied: contourpy>=1.0.1 in /usr/local/lib/python3.10/dist-packages (from matplotlib!=3.6.1,>=3.1->seaborn) (1.1.0)\n",
            "Requirement already satisfied: cycler>=0.10 in /usr/local/lib/python3.10/dist-packages (from matplotlib!=3.6.1,>=3.1->seaborn) (0.11.0)\n",
            "Requirement already satisfied: fonttools>=4.22.0 in /usr/local/lib/python3.10/dist-packages (from matplotlib!=3.6.1,>=3.1->seaborn) (4.42.1)\n",
            "Requirement already satisfied: kiwisolver>=1.0.1 in /usr/local/lib/python3.10/dist-packages (from matplotlib!=3.6.1,>=3.1->seaborn) (1.4.5)\n",
            "Requirement already satisfied: packaging>=20.0 in /usr/local/lib/python3.10/dist-packages (from matplotlib!=3.6.1,>=3.1->seaborn) (23.1)\n",
            "Requirement already satisfied: pillow>=6.2.0 in /usr/local/lib/python3.10/dist-packages (from matplotlib!=3.6.1,>=3.1->seaborn) (9.4.0)\n",
            "Requirement already satisfied: pyparsing>=2.3.1 in /usr/local/lib/python3.10/dist-packages (from matplotlib!=3.6.1,>=3.1->seaborn) (3.1.1)\n",
            "Requirement already satisfied: python-dateutil>=2.7 in /usr/local/lib/python3.10/dist-packages (from matplotlib!=3.6.1,>=3.1->seaborn) (2.8.2)\n",
            "Requirement already satisfied: pytz>=2020.1 in /usr/local/lib/python3.10/dist-packages (from pandas>=0.25->seaborn) (2023.3.post1)\n",
            "Requirement already satisfied: six>=1.5 in /usr/local/lib/python3.10/dist-packages (from python-dateutil>=2.7->matplotlib!=3.6.1,>=3.1->seaborn) (1.16.0)\n",
            "Requirement already satisfied: numpy in /usr/local/lib/python3.10/dist-packages (1.23.5)\n",
            "Requirement already satisfied: matplotlib in /usr/local/lib/python3.10/dist-packages (3.7.1)\n",
            "Requirement already satisfied: contourpy>=1.0.1 in /usr/local/lib/python3.10/dist-packages (from matplotlib) (1.1.0)\n",
            "Requirement already satisfied: cycler>=0.10 in /usr/local/lib/python3.10/dist-packages (from matplotlib) (0.11.0)\n",
            "Requirement already satisfied: fonttools>=4.22.0 in /usr/local/lib/python3.10/dist-packages (from matplotlib) (4.42.1)\n",
            "Requirement already satisfied: kiwisolver>=1.0.1 in /usr/local/lib/python3.10/dist-packages (from matplotlib) (1.4.5)\n",
            "Requirement already satisfied: numpy>=1.20 in /usr/local/lib/python3.10/dist-packages (from matplotlib) (1.23.5)\n",
            "Requirement already satisfied: packaging>=20.0 in /usr/local/lib/python3.10/dist-packages (from matplotlib) (23.1)\n",
            "Requirement already satisfied: pillow>=6.2.0 in /usr/local/lib/python3.10/dist-packages (from matplotlib) (9.4.0)\n",
            "Requirement already satisfied: pyparsing>=2.3.1 in /usr/local/lib/python3.10/dist-packages (from matplotlib) (3.1.1)\n",
            "Requirement already satisfied: python-dateutil>=2.7 in /usr/local/lib/python3.10/dist-packages (from matplotlib) (2.8.2)\n",
            "Requirement already satisfied: six>=1.5 in /usr/local/lib/python3.10/dist-packages (from python-dateutil>=2.7->matplotlib) (1.16.0)\n"
          ]
        }
      ],
      "source": [
        "!pip install seaborn\n",
        "!pip install numpy\n",
        "!pip install matplotlib\n"
      ]
    },
    {
      "cell_type": "code",
      "source": [],
      "metadata": {
        "id": "K4skwQVKuxu7"
      },
      "execution_count": null,
      "outputs": []
    },
    {
      "cell_type": "markdown",
      "source": [
        "z score manipulaion"
      ],
      "metadata": {
        "id": "hMUazCC8IImN"
      }
    },
    {
      "cell_type": "markdown",
      "source": [
        "introduction to statistics"
      ],
      "metadata": {
        "id": "3UubEJYFu1Nq"
      }
    },
    {
      "cell_type": "code",
      "source": [
        "import numpy as np\n",
        "import matplotlib.pyplot as plt\n",
        "import seaborn as sns\n",
        "%matplotlib inline"
      ],
      "metadata": {
        "id": "7r2bLZBPtH55"
      },
      "execution_count": 6,
      "outputs": []
    },
    {
      "cell_type": "code",
      "source": [],
      "metadata": {
        "id": "ZoUjoAmuvdJr"
      },
      "execution_count": 17,
      "outputs": []
    },
    {
      "cell_type": "code",
      "source": [
        "dataset=[11,10,12,14,12,15,14,13,15,102,12,14,17,19.107,10,13,12,14,17,108,12,11,14,13,15,10,15,12,10,14,13,15,10]"
      ],
      "metadata": {
        "id": "fNjziZ-1u6AM"
      },
      "execution_count": 7,
      "outputs": []
    },
    {
      "cell_type": "code",
      "source": [
        "outliers=[]"
      ],
      "metadata": {
        "id": "z7YcnsvY7-X9"
      },
      "execution_count": 8,
      "outputs": []
    },
    {
      "cell_type": "code",
      "source": [
        "sns.boxplot(dataset)"
      ],
      "metadata": {
        "colab": {
          "base_uri": "https://localhost:8080/",
          "height": 447
        },
        "id": "8G8zeljT5KbH",
        "outputId": "e42deffa-a742-4819-ee07-6c8f2d2fd3d4"
      },
      "execution_count": 12,
      "outputs": [
        {
          "output_type": "execute_result",
          "data": {
            "text/plain": [
              "<Axes: >"
            ]
          },
          "metadata": {},
          "execution_count": 12
        },
        {
          "output_type": "display_data",
          "data": {
            "text/plain": [
              "<Figure size 640x480 with 1 Axes>"
            ],
            "image/png": "[encoded data removed]"
          },
          "metadata": {}
        }
      ]
    },
    {
      "cell_type": "code",
      "source": [
        "sns.histplot(dataset)"
      ],
      "metadata": {
        "colab": {
          "base_uri": "https://localhost:8080/",
          "height": 447
        },
        "id": "PezYolUtzuPG",
        "outputId": "42725f5f-cd4d-4c5d-9388-a66eb1b93d48"
      },
      "execution_count": 13,
      "outputs": [
        {
          "output_type": "execute_result",
          "data": {
            "text/plain": [
              "<Axes: ylabel='Count'>"
            ]
          },
          "metadata": {},
          "execution_count": 13
        },
        {
          "output_type": "display_data",
          "data": {
            "text/plain": [
              "<Figure size 640x480 with 1 Axes>"
            ],
            "image/png": "[encoded data removed]"
          },
          "metadata": {}
        }
      ]
    },
    {
      "cell_type": "code",
      "source": [
        "plt.hist(dataset)"
      ],
      "metadata": {
        "colab": {
          "base_uri": "https://localhost:8080/",
          "height": 499
        },
        "id": "rDV2AQcm2tzY",
        "outputId": "3fb076e4-bb53-416a-fb51-19e21dae5322"
      },
      "execution_count": 15,
      "outputs": [
        {
          "output_type": "execute_result",
          "data": {
            "text/plain": [
              "(array([31.,  0.,  0.,  0.,  0.,  0.,  0.,  0.,  0.,  2.]),\n",
              " array([ 10. ,  19.8,  29.6,  39.4,  49.2,  59. ,  68.8,  78.6,  88.4,\n",
              "         98.2, 108. ]),\n",
              " <BarContainer object of 10 artists>)"
            ]
          },
          "metadata": {},
          "execution_count": 15
        },
        {
          "output_type": "display_data",
          "data": {
            "text/plain": [
              "<Figure size 640x480 with 1 Axes>"
            ],
            "image/png": "[encoded data removed]"
          },
          "metadata": {}
        }
      ]
    },
    {
      "cell_type": "code",
      "source": [],
      "metadata": {
        "id": "yfnzbT1X9v8R"
      },
      "execution_count": null,
      "outputs": []
    },
    {
      "cell_type": "code",
      "source": [
        "def detect_outliers(data):\n",
        "  threshold=3  # 3 after 3 std deviation\n",
        "  mean=np.mean(data)\n",
        "  std=np.std(data)\n",
        "\n",
        "\n",
        "  for i in data:\n",
        "      z_score=(i-mean)/std\n",
        "      if np.abs(z_score)> threshold:    #absolute=abs\n",
        "        outliers.append(i)\n",
        "\n",
        "  return outliers\n",
        "\n",
        "\n"
      ],
      "metadata": {
        "id": "f_k4Igak8dDK"
      },
      "execution_count": 16,
      "outputs": []
    },
    {
      "cell_type": "code",
      "source": [
        "detect_outliers(dataset)"
      ],
      "metadata": {
        "colab": {
          "base_uri": "https://localhost:8080/"
        },
        "id": "6CY7n5r_55pK",
        "outputId": "ea8e8b7d-0f46-4705-d4bd-8813347d028f"
      },
      "execution_count": 17,
      "outputs": [
        {
          "output_type": "execute_result",
          "data": {
            "text/plain": [
              "[102, 108]"
            ]
          },
          "metadata": {},
          "execution_count": 17
        }
      ]
    },
    {
      "cell_type": "code",
      "source": [],
      "metadata": {
        "id": "rDuqL62XIZd2"
      },
      "execution_count": null,
      "outputs": []
    },
    {
      "cell_type": "markdown",
      "source": [
        "IQR---INTER QUARTILE RANGE\n",
        "1.SORT THE DATA\n",
        "2.CALCULATE Q1 AND Q2\n",
        "3.IQR(Q2-Q1)\n",
        "4.FIND THE LOWER FENCE(Q1-1.5(IQR)\n",
        "5.FIND THE UPPER FENCE(Q2+1.5(IQR)"
      ],
      "metadata": {
        "id": "Gw0LjLgqIajm"
      }
    },
    {
      "cell_type": "code",
      "source": [
        "dataset=sorted(dataset)"
      ],
      "metadata": {
        "id": "1WhV5dngKiQW"
      },
      "execution_count": 18,
      "outputs": []
    },
    {
      "cell_type": "code",
      "source": [
        "dataset"
      ],
      "metadata": {
        "colab": {
          "base_uri": "https://localhost:8080/"
        },
        "id": "J2hPKdgMK1Ur",
        "outputId": "30e27aee-06a5-4fff-ab93-fa308ebc674d"
      },
      "execution_count": 19,
      "outputs": [
        {
          "output_type": "execute_result",
          "data": {
            "text/plain": [
              "[10,\n",
              " 10,\n",
              " 10,\n",
              " 10,\n",
              " 10,\n",
              " 11,\n",
              " 11,\n",
              " 12,\n",
              " 12,\n",
              " 12,\n",
              " 12,\n",
              " 12,\n",
              " 12,\n",
              " 13,\n",
              " 13,\n",
              " 13,\n",
              " 13,\n",
              " 14,\n",
              " 14,\n",
              " 14,\n",
              " 14,\n",
              " 14,\n",
              " 14,\n",
              " 15,\n",
              " 15,\n",
              " 15,\n",
              " 15,\n",
              " 15,\n",
              " 17,\n",
              " 17,\n",
              " 19.107,\n",
              " 102,\n",
              " 108]"
            ]
          },
          "metadata": {},
          "execution_count": 19
        }
      ]
    },
    {
      "cell_type": "code",
      "source": [
        "Q1,Q3=np.percentile(dataset,[25,75])"
      ],
      "metadata": {
        "id": "GCK4vzyKIfr2"
      },
      "execution_count": 20,
      "outputs": []
    },
    {
      "cell_type": "code",
      "source": [
        "print(Q1,Q3)"
      ],
      "metadata": {
        "colab": {
          "base_uri": "https://localhost:8080/"
        },
        "id": "dHfHYlQtMD2n",
        "outputId": "847a86fc-624d-46b7-8019-bb000e863224"
      },
      "execution_count": 21,
      "outputs": [
        {
          "output_type": "stream",
          "name": "stdout",
          "text": [
            "12.0 15.0\n"
          ]
        }
      ]
    },
    {
      "cell_type": "code",
      "source": [
        "IQR=Q3-Q1"
      ],
      "metadata": {
        "id": "zEWXLI9XMg9U"
      },
      "execution_count": 22,
      "outputs": []
    },
    {
      "cell_type": "code",
      "source": [
        "print(IQR)"
      ],
      "metadata": {
        "colab": {
          "base_uri": "https://localhost:8080/"
        },
        "id": "6kOUt179MrPm",
        "outputId": "bbafbdae-c267-4d70-e980-1faf4f1a3c11"
      },
      "execution_count": 23,
      "outputs": [
        {
          "output_type": "stream",
          "name": "stdout",
          "text": [
            "3.0\n"
          ]
        }
      ]
    },
    {
      "cell_type": "code",
      "source": [
        "#find lower fence and upper fence"
      ],
      "metadata": {
        "id": "MmobPyLAN4EN"
      },
      "execution_count": null,
      "outputs": []
    },
    {
      "cell_type": "code",
      "source": [
        "LOWER_FENCE=Q1-(1.5*IQR)\n",
        "UPPER_FENCE=Q3+(1.5*IQR)\n",
        "print(LOWER_FENCE,UPPER_FENCE)"
      ],
      "metadata": {
        "colab": {
          "base_uri": "https://localhost:8080/"
        },
        "id": "9SiSixOrM5Sk",
        "outputId": "c4c598cf-417d-4350-bc0d-2794e2500253"
      },
      "execution_count": 24,
      "outputs": [
        {
          "output_type": "stream",
          "name": "stdout",
          "text": [
            "7.5 19.5\n"
          ]
        }
      ]
    },
    {
      "cell_type": "code",
      "source": [
        "sns.boxplot(dataset)"
      ],
      "metadata": {
        "colab": {
          "base_uri": "https://localhost:8080/",
          "height": 447
        },
        "id": "SZfw-xeeOEIQ",
        "outputId": "bb46dcb8-5b26-43e2-bbe3-40b152bdf569"
      },
      "execution_count": 25,
      "outputs": [
        {
          "output_type": "execute_result",
          "data": {
            "text/plain": [
              "<Axes: >"
            ]
          },
          "metadata": {},
          "execution_count": 25
        },
        {
          "output_type": "display_data",
          "data": {
            "text/plain": [
              "<Figure size 640x480 with 1 Axes>"
            ],
            "image/png": "[encoded data removed]"
          },
          "metadata": {}
        }
      ]
    },
    {
      "cell_type": "code",
      "source": [
        "# Create arrays of Boolean values indicating the outlier rows"
      ],
      "metadata": {
        "id": "QYZ8tE9HVx-q"
      },
      "execution_count": null,
      "outputs": []
    },
    {
      "cell_type": "code",
      "source": [
        "UPPER_FENCE = np.where (dataset>=[19.5])\n",
        "LOWER_FENCE = np.where (dataset<=[7.5])\n",
        "\n",
        "# Removing the outliers\n",
        "dataset.drop(index=UPPER_FENCE, inplace=True)\n",
        "dataset.drop(index=LOWER_FENCE, inplace=True)\n",
        "\n",
        "# Print the new shape of the DataFrame\n",
        "print(\"New Shape: \", dataset.shape)"
      ],
      "metadata": {
        "colab": {
          "base_uri": "https://localhost:8080/",
          "height": 245
        },
        "id": "mxzSbtWsV0KR",
        "outputId": "f7a11f54-d82a-4604-c5af-8e7910d4439b"
      },
      "execution_count": 46,
      "outputs": [
        {
          "output_type": "error",
          "ename": "AttributeError",
          "evalue": "ignored",
          "traceback": [
            "\u001b[0;31m---------------------------------------------------------------------------\u001b[0m",
            "\u001b[0;31mAttributeError\u001b[0m                            Traceback (most recent call last)",
            "\u001b[0;32m<ipython-input-46-3be775c6e0e6>\u001b[0m in \u001b[0;36m<cell line: 5>\u001b[0;34m()\u001b[0m\n\u001b[1;32m      3\u001b[0m \u001b[0;34m\u001b[0m\u001b[0m\n\u001b[1;32m      4\u001b[0m \u001b[0;31m# Removing the outliers\u001b[0m\u001b[0;34m\u001b[0m\u001b[0;34m\u001b[0m\u001b[0m\n\u001b[0;32m----> 5\u001b[0;31m \u001b[0mdataset\u001b[0m\u001b[0;34m.\u001b[0m\u001b[0mdrop\u001b[0m\u001b[0;34m(\u001b[0m\u001b[0mindex\u001b[0m\u001b[0;34m=\u001b[0m\u001b[0mUPPER_FENCE\u001b[0m\u001b[0;34m,\u001b[0m \u001b[0minplace\u001b[0m\u001b[0;34m=\u001b[0m\u001b[0;32mTrue\u001b[0m\u001b[0;34m)\u001b[0m\u001b[0;34m\u001b[0m\u001b[0;34m\u001b[0m\u001b[0m\n\u001b[0m\u001b[1;32m      6\u001b[0m \u001b[0mdataset\u001b[0m\u001b[0;34m.\u001b[0m\u001b[0mdrop\u001b[0m\u001b[0;34m(\u001b[0m\u001b[0mindex\u001b[0m\u001b[0;34m=\u001b[0m\u001b[0mLOWER_FENCE\u001b[0m\u001b[0;34m,\u001b[0m \u001b[0minplace\u001b[0m\u001b[0;34m=\u001b[0m\u001b[0;32mTrue\u001b[0m\u001b[0;34m)\u001b[0m\u001b[0;34m\u001b[0m\u001b[0;34m\u001b[0m\u001b[0m\n\u001b[1;32m      7\u001b[0m \u001b[0;34m\u001b[0m\u001b[0m\n",
            "\u001b[0;31mAttributeError\u001b[0m: 'list' object has no attribute 'drop'"
          ]
        }
      ]
    },
    {
      "cell_type": "code",
      "source": [
        "from os import remove\n",
        "#Remove outliers\n",
        "for i in dataset:\n",
        "  lambda i, i<7.5 and i>19.5:dataset.drop()\n",
        "\n",
        "  print('New Shape:',dataset)\n",
        "\n",
        ""
      ],
      "metadata": {
        "colab": {
          "base_uri": "https://localhost:8080/",
          "height": 140
        },
        "id": "Kc5T0h6SQKN1",
        "outputId": "bb32046f-eafc-459f-f1ef-96870ebf4bc6"
      },
      "execution_count": 52,
      "outputs": [
        {
          "output_type": "error",
          "ename": "SyntaxError",
          "evalue": "ignored",
          "traceback": [
            "\u001b[0;36m  File \u001b[0;32m\"<ipython-input-52-2e201c205e41>\"\u001b[0;36m, line \u001b[0;32m4\u001b[0m\n\u001b[0;31m    lambda i, i<7.5 and i>19.5:dataset.drop()\u001b[0m\n\u001b[0m               ^\u001b[0m\n\u001b[0;31mSyntaxError\u001b[0m\u001b[0;31m:\u001b[0m invalid syntax\n"
          ]
        }
      ]
    },
    {
      "cell_type": "code",
      "source": [
        "dataset(data)"
      ],
      "metadata": {
        "colab": {
          "base_uri": "https://localhost:8080/",
          "height": 175
        },
        "id": "ofNZMLjSRk4z",
        "outputId": "7a13158e-e0cb-4bb3-ac58-71c721445ad7"
      },
      "execution_count": 36,
      "outputs": [
        {
          "output_type": "error",
          "ename": "NameError",
          "evalue": "ignored",
          "traceback": [
            "\u001b[0;31m---------------------------------------------------------------------------\u001b[0m",
            "\u001b[0;31mNameError\u001b[0m                                 Traceback (most recent call last)",
            "\u001b[0;32m<ipython-input-36-000d7bcc0167>\u001b[0m in \u001b[0;36m<cell line: 1>\u001b[0;34m()\u001b[0m\n\u001b[0;32m----> 1\u001b[0;31m \u001b[0mdataset\u001b[0m\u001b[0;34m(\u001b[0m\u001b[0mdata\u001b[0m\u001b[0;34m)\u001b[0m\u001b[0;34m\u001b[0m\u001b[0;34m\u001b[0m\u001b[0m\n\u001b[0m",
            "\u001b[0;31mNameError\u001b[0m: name 'data' is not defined"
          ]
        }
      ]
    },
    {
      "cell_type": "code",
      "source": [
        "#probablity;measure of likelihood of an event\n",
        "eg; roll a die\n",
        "=event occurred/possible outcome\n",
        "\n",
        "#best fitline\n",
        "1.linear regression"
      ],
      "metadata": {
        "id": "j46FGHMOZrGR"
      },
      "execution_count": null,
      "outputs": []
    },
    {
      "cell_type": "markdown",
      "source": [
        "# probablity;measure of likelihood of an event\n",
        "eg; roll a die\n",
        "=event occurred/possible outcome\n",
        "\n",
        "#best fitline\n",
        "1.linear regression"
      ],
      "metadata": {
        "id": "gzq35Zg6dcgW"
      }
    },
    {
      "cell_type": "markdown",
      "source": [
        "# addition rule(prob)\n",
        "**mutual exclusive event**\n",
        "two events mutual exclusive if they cannot occure at the same time,\n",
        "\n",
        "\n",
        "eg rolling a die,tossing a coin.what is the pro of landing on head or tail? addition rule 1/2+1/2=1\n",
        "\n",
        "\n",
        "\n",
        "**non mutual exclusive, **\n",
        " multiple events occure at the same time,eg deck of cards(52)(king,queen,red....)\n",
        "\n",
        " eg picking of a card fro a deck,what is the probablity choosing queen or heart?queen=4/52,heart=13/52`````4/52+13/52-1/52=16/52"
      ],
      "metadata": {
        "id": "3UQqN5bnanYc"
      }
    },
    {
      "cell_type": "markdown",
      "source": [
        "# Multiplication Rule\n",
        "\n",
        "\n",
        "1.   **independent event**\n",
        "roll die---{1,2,3,4,5,6}---each event independent\n",
        "\n",
        "what is the prob rolling a 5 and 4 in a die\n",
        "independent event,multiplation rule,P(a)*P(b)=1/6*1/6=1/36\n",
        "\n",
        "2.  ** dependet events**\n",
        "Eg. three red marble and two green marbe, prob of getting red marble, 3/5\n",
        "two and two left in the bag, next proba 2/4\n",
        "\n",
        "what is the pro of drwing a queen and then aces in a decke of card\n",
        "P(a and b)=P(a) and P(b/a)---on conditiol on a\n",
        "P(Q and A)= 4/52*4/51\n",
        "\n",
        "naive bay's``` (conditional probablity)\n",
        "\n"
      ],
      "metadata": {
        "id": "aLxPPIbPevP9"
      }
    },
    {
      "cell_type": "markdown",
      "source": [
        "# permutation and combination\n",
        "\n",
        "1.   permutation\n",
        "\n",
        "students school trip to chocolate factory and six type produced\n",
        " and given assignment to students and write in your diary the first three\n",
        " 1st instance--write 1,next\n",
        " 6*5*4=120\n",
        " p formula= n!/(n-r)=6!/(6-3)!\n",
        "\n",
        "2.   combination\n",
        "\n",
        "uniqe\n",
        "\n",
        "n!/r!(n-r)=6!/3!(6-3)!=20\n"
      ],
      "metadata": {
        "id": "cAWK-aaeh1Na"
      }
    },
    {
      "cell_type": "markdown",
      "source": [
        "**confidence interval**`````\n",
        "# P value\n",
        "\n",
        "**1.   hypothesis testing-confidence iterval,significant value**\n",
        "\n",
        "coin--test whether this cain a fair coin or not by performing 100 tosses\n",
        "p(h)=0.5,P(t)=0.5 if so the coin is fair-----\n",
        "but if not p=100% not fair\n",
        "**hypotess testing**\n",
        "A. Null hypothesis: coin fair\n",
        "B. Alternate Hyo: not Fair\n",
        "\n",
        " Experiments---Reject or accept Null Hypothesis\n",
        "experiment~~~~real data define how far is away fro the mean,,,,,to measure we need significant value (sig=0.05--define by domai expert), the coin should be in 95% confidence interval to be fair\n",
        "\n",
        "\n"
      ],
      "metadata": {
        "id": "Iez6osj3jmQj"
      }
    },
    {
      "cell_type": "markdown",
      "source": [
        "**topic*\n",
        "\n",
        "**1. type 1 and type 2 error````understand confussin matrix**\n",
        "\n",
        "Null hyp(H0)= cain fair\n",
        "Alternate hyp(H1)= cain not fair\n",
        "reality check decision~~~  \n",
        "   reject H0 when in reality false....good\n",
        "   accept H0 when in reality false, ...type 2 error---FN\n",
        "   Reject H0 when in reality is rue(type 1 error)---FP\n",
        "   accept H0 when in reality true~~~good\n",
        "\n",
        "\n",
        "**1.   one tail and two tail test **\n",
        "\n",
        "eg: a colleges in karnatac have 85% placement rate,a new college was recently open and it was found that a sample of 150 students had a placement rate of 88% with sd 4%. does this college a different placement rate? sg=0.05\n",
        "     =2 tail test\n",
        "\n",
        "does this college a placement rate >85%?  = tail test\n",
        "\n",
        "\n",
        "2.   CI-confidence interval\n",
        "sg=0.05~~~~ two side left and right side .0.025\n",
        "\n",
        "point estimate-- the value of any statstics that estimate the value of a parameter\n",
        "inferencial stats\n",
        "sample mean ---estimate popl mean(could be greater or smaller than sample mean)\n",
        "mostly sample mean provided to find poln mean\n",
        "CI=point estimate+-margin of error(we can not get the exact Poln mean)\n",
        "Eg on the quant test of cat exam the popln sd is known to  be 100. a sample of 25 test takers has a mean of 520 score. construct a 95% CI about the mean?\n",
        "soln) std=100 n=25 sg=0.05 mean=520\n",
        "poln std is given\n",
        "                  CI ==point estimate +-me\n",
        "                     =sample mean +- z a/2* sg/root of n(standard error)\n",
        "        520 +1.96( 20)=559.2=  mean +z0.05/2* 100/root25=upper bound\n",
        "                     =480.8=  mean-z0.05/2* 100/root 25= lower bound\n",
        "\n",
        " QUESTIONS INTERVIEW: FIND THE AVERAE SIZE OF THE SHARK THROUGHOUT THE\n",
        " WORLD?       \n",
        "\n",
        " if poln std not given but sampe std given~ use T test\n",
        " Q) on the quant test of cat exam a sample 25 test takers has a mean of 520 with std of sample 80.construct 95% CI about the mean?\n",
        " Ans) n=25 sample =520 sd=80 sg=0.05,poln std not given      \n",
        "\n",
        " point estimate+ME\n",
        " X +- Ta/2 * (s/root n  )     \n",
        " degree of freedom = n-1 =25-1= 24  ~ T0.05/2= 2.064\n",
        "     520 +-2.064 *80/5~` lowe bound and upper bound\n",
        "\n",
        "\n",
        "3. Z-test, T-test, chi-square test\n",
        "\n",
        "one sample z-test\n",
        "poln std is given\n",
        "sample size n>=30\n",
        "questin)\n",
        "     in the poln, the average Iq is 100 with std of 50, researchers want to test a new medication to see if there is posiive or negative effect on intelleigence or no effect at all. a sample of 30 participants who have taken the medicatio has a mean IQ of140 . did the medication affect the intelligence,sg=0.05\n",
        "Ans) 1. define H0=  mean=100\n",
        " 2. H1=mean not equal 100\n",
        " 3. state alpha value\n",
        " 4. state decision rule\n",
        " two tail test~ 2.5% both side-left tail and right tail\n",
        " 1-0.025=0.975 and check on Z-test=1.96 and -1.96\n",
        " 5. calculate test statistics\n",
        " z= sample mean-poln mean/(std/root n)=(140-100)/(15/root 30)=14.6\n",
        " state decision\n",
        " 14.6> 1.96 , then it is rejected H0\n",
        "\n",
        "therefore,  medication decrease or increase the inteligence? it is increased\n",
        "\n",
        "one sample t-test\n"
      ],
      "metadata": {
        "id": "oyfTQIybaQ3x"
      }
    },
    {
      "cell_type": "markdown",
      "source": [
        "# one sample t-test\n",
        "Q. pln average Iq=100 n=30 mean=140 std=20 medication impact\n",
        "\n",
        "\n",
        "Inter view questions: one bank ATM machine\n",
        "Ans) set up average with drawn balance and other factors"
      ],
      "metadata": {
        "id": "buyYifqz9MQP"
      }
    }
  ]
}